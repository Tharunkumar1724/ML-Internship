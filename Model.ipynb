{
 "cells": [
  {
   "cell_type": "code",
   "execution_count": 6,
   "id": "d6229a49-d8ea-4bcf-86bc-253c76039768",
   "metadata": {},
   "outputs": [],
   "source": [
    "import pandas as pd\n",
    "df1=pd.read_csv('final_prepaid_customers_data_09-Jan-2025.csv')\n",
    "df2=pd.read_csv('final_postpaid_customers_data_09-Jan-2025.csv')"
   ]
  },
  {
   "cell_type": "code",
   "execution_count": 10,
   "id": "87515828-02a8-4b96-930f-4f049c41975e",
   "metadata": {},
   "outputs": [],
   "source": [
    "df1['inspection_count'] = pd.to_numeric(df1['inspection_count'], errors='coerce')\n",
    "df2['inspection_count'] = pd.to_numeric(df2['inspection_count'], errors='coerce')\n"
   ]
  },
  {
   "cell_type": "code",
   "execution_count": 8,
   "id": "6e40d014-2c0b-4bf9-83dc-25c968581da2",
   "metadata": {},
   "outputs": [
    {
     "data": {
      "text/plain": [
       "dtype('int64')"
      ]
     },
     "execution_count": 8,
     "metadata": {},
     "output_type": "execute_result"
    }
   ],
   "source": [
    "df1.inspection_count.dtype"
   ]
  },
  {
   "cell_type": "code",
   "execution_count": 9,
   "id": "a6725a7b-5f18-4ce7-a859-be07c987f285",
   "metadata": {},
   "outputs": [
    {
     "data": {
      "text/plain": [
       "dtype('int64')"
      ]
     },
     "execution_count": 9,
     "metadata": {},
     "output_type": "execute_result"
    }
   ],
   "source": [
    "df2.inspection_count.dtype"
   ]
  },
  {
   "cell_type": "code",
   "execution_count": 16,
   "id": "fe4c8be5-9d54-4134-a7f6-030570cd8c1d",
   "metadata": {},
   "outputs": [],
   "source": [
    "import pandas as pd\n",
    "import sweetviz as sv\n"
   ]
  },
  {
   "cell_type": "code",
   "execution_count": 14,
   "id": "6463bb6c-956c-4d79-810a-e41142b57653",
   "metadata": {},
   "outputs": [
    {
     "data": {
      "application/vnd.jupyter.widget-view+json": {
       "model_id": "f1d704887bf8470bbdc6a7d206b26716",
       "version_major": 2,
       "version_minor": 0
      },
      "text/plain": [
       "                                             |                                             | [  0%]   00:00 ->…"
      ]
     },
     "metadata": {},
     "output_type": "display_data"
    }
   ],
   "source": [
    "report = sv.compare([df1.drop(columns=['inspection_count','fraud_found_category']), \"Dataset 1\"],\n",
    "                    [df2.drop(columns=['inspection_count','fraud_found_category']), \"Dataset 2\"])\n"
   ]
  },
  {
   "cell_type": "code",
   "execution_count": 15,
   "id": "49bd7786-d837-4cfb-8883-2834cbd38c83",
   "metadata": {},
   "outputs": [
    {
     "name": "stdout",
     "output_type": "stream",
     "text": [
      "Report comparison_report.html was generated! NOTEBOOK/COLAB USERS: the web browser MAY not pop up, regardless, the report IS saved in your notebook/colab files.\n"
     ]
    }
   ],
   "source": [
    "report.show_html(\"comparison_report.html\")"
   ]
  },
  {
   "cell_type": "code",
   "execution_count": 18,
   "id": "4199269d-7cbf-47ac-8ce1-9799949386dd",
   "metadata": {},
   "outputs": [],
   "source": [
    "df3=pd.read_csv('scale_post.csv')\n",
    "df4=pd.read_csv('scalprep.csv')"
   ]
  },
  {
   "cell_type": "code",
   "execution_count": 25,
   "id": "bfb2562d-0a8e-4755-9f19-839e2ee34ac5",
   "metadata": {},
   "outputs": [],
   "source": [
    "merge = pd.merge(df3, df4,  how='outer')\n"
   ]
  },
  {
   "cell_type": "code",
   "execution_count": 29,
   "id": "abaca339-dcd4-4319-b852-1f5c890dab65",
   "metadata": {},
   "outputs": [
    {
     "data": {
      "text/html": [
       "<div>\n",
       "<style scoped>\n",
       "    .dataframe tbody tr th:only-of-type {\n",
       "        vertical-align: middle;\n",
       "    }\n",
       "\n",
       "    .dataframe tbody tr th {\n",
       "        vertical-align: top;\n",
       "    }\n",
       "\n",
       "    .dataframe thead th {\n",
       "        text-align: right;\n",
       "    }\n",
       "</style>\n",
       "<table border=\"1\" class=\"dataframe\">\n",
       "  <thead>\n",
       "    <tr style=\"text-align: right;\">\n",
       "      <th></th>\n",
       "      <th>Unnamed: 0</th>\n",
       "      <th>PHASE</th>\n",
       "      <th>TARIFF</th>\n",
       "      <th>POWER_SUSCRIBED</th>\n",
       "      <th>TENSION</th>\n",
       "      <th>DIVISION</th>\n",
       "      <th>ACTIVITY_CMS</th>\n",
       "      <th>REGION</th>\n",
       "      <th>AGENCY</th>\n",
       "      <th>payment_mode</th>\n",
       "      <th>...</th>\n",
       "      <th>Tenure_Days</th>\n",
       "      <th>Avg_Consumption</th>\n",
       "      <th>Max_Consumption</th>\n",
       "      <th>Total_Payment</th>\n",
       "      <th>Spike_Count</th>\n",
       "      <th>Has_inspected</th>\n",
       "      <th>inspection_count</th>\n",
       "      <th>fraud_found_category</th>\n",
       "      <th>SERVICE_NBR</th>\n",
       "      <th>Found_fraud</th>\n",
       "    </tr>\n",
       "  </thead>\n",
       "  <tbody>\n",
       "    <tr>\n",
       "      <th>0</th>\n",
       "      <td>0</td>\n",
       "      <td>-0.605289</td>\n",
       "      <td>-0.122733</td>\n",
       "      <td>-0.420250</td>\n",
       "      <td>-0.602011</td>\n",
       "      <td>-0.630084</td>\n",
       "      <td>-0.651396</td>\n",
       "      <td>-0.644237</td>\n",
       "      <td>-0.802526</td>\n",
       "      <td>-0.214137</td>\n",
       "      <td>...</td>\n",
       "      <td>1.129093</td>\n",
       "      <td>-0.005359</td>\n",
       "      <td>-0.003845</td>\n",
       "      <td>-0.272370</td>\n",
       "      <td>0.727695</td>\n",
       "      <td>0.0</td>\n",
       "      <td>-0.19517</td>\n",
       "      <td>-0.147188</td>\n",
       "      <td>200050057</td>\n",
       "      <td>1</td>\n",
       "    </tr>\n",
       "    <tr>\n",
       "      <th>1</th>\n",
       "      <td>0</td>\n",
       "      <td>-0.221579</td>\n",
       "      <td>-1.369943</td>\n",
       "      <td>-0.291834</td>\n",
       "      <td>-0.221199</td>\n",
       "      <td>-0.600486</td>\n",
       "      <td>4.384625</td>\n",
       "      <td>-0.562455</td>\n",
       "      <td>-0.681401</td>\n",
       "      <td>0.060776</td>\n",
       "      <td>...</td>\n",
       "      <td>3.817115</td>\n",
       "      <td>0.003983</td>\n",
       "      <td>0.110861</td>\n",
       "      <td>-0.227233</td>\n",
       "      <td>-0.146108</td>\n",
       "      <td>0.0</td>\n",
       "      <td>0.00000</td>\n",
       "      <td>0.977119</td>\n",
       "      <td>200050072</td>\n",
       "      <td>1</td>\n",
       "    </tr>\n",
       "    <tr>\n",
       "      <th>2</th>\n",
       "      <td>1</td>\n",
       "      <td>-0.605289</td>\n",
       "      <td>-0.122733</td>\n",
       "      <td>-0.420250</td>\n",
       "      <td>-0.602011</td>\n",
       "      <td>-0.630084</td>\n",
       "      <td>-0.651396</td>\n",
       "      <td>-0.644237</td>\n",
       "      <td>-0.802526</td>\n",
       "      <td>-0.214137</td>\n",
       "      <td>...</td>\n",
       "      <td>1.243018</td>\n",
       "      <td>-0.005002</td>\n",
       "      <td>-0.003799</td>\n",
       "      <td>-0.201113</td>\n",
       "      <td>0.727695</td>\n",
       "      <td>0.0</td>\n",
       "      <td>-0.19517</td>\n",
       "      <td>-0.147188</td>\n",
       "      <td>200050064</td>\n",
       "      <td>1</td>\n",
       "    </tr>\n",
       "    <tr>\n",
       "      <th>3</th>\n",
       "      <td>1</td>\n",
       "      <td>-0.221579</td>\n",
       "      <td>-1.369943</td>\n",
       "      <td>-0.291834</td>\n",
       "      <td>-0.221199</td>\n",
       "      <td>-0.600486</td>\n",
       "      <td>-0.234678</td>\n",
       "      <td>-0.562455</td>\n",
       "      <td>-0.681401</td>\n",
       "      <td>0.060776</td>\n",
       "      <td>...</td>\n",
       "      <td>3.039079</td>\n",
       "      <td>-0.563311</td>\n",
       "      <td>-0.476241</td>\n",
       "      <td>-0.243358</td>\n",
       "      <td>-1.508571</td>\n",
       "      <td>0.0</td>\n",
       "      <td>0.00000</td>\n",
       "      <td>0.977119</td>\n",
       "      <td>200050302</td>\n",
       "      <td>1</td>\n",
       "    </tr>\n",
       "    <tr>\n",
       "      <th>4</th>\n",
       "      <td>2</td>\n",
       "      <td>-0.605289</td>\n",
       "      <td>-0.122733</td>\n",
       "      <td>-0.420250</td>\n",
       "      <td>-0.602011</td>\n",
       "      <td>-0.630084</td>\n",
       "      <td>-0.651396</td>\n",
       "      <td>-0.644237</td>\n",
       "      <td>-0.802526</td>\n",
       "      <td>-0.214137</td>\n",
       "      <td>...</td>\n",
       "      <td>1.243018</td>\n",
       "      <td>-0.005192</td>\n",
       "      <td>-0.003819</td>\n",
       "      <td>-0.226789</td>\n",
       "      <td>0.167772</td>\n",
       "      <td>0.0</td>\n",
       "      <td>-0.19517</td>\n",
       "      <td>-0.147188</td>\n",
       "      <td>200050076</td>\n",
       "      <td>1</td>\n",
       "    </tr>\n",
       "  </tbody>\n",
       "</table>\n",
       "<p>5 rows × 21 columns</p>\n",
       "</div>"
      ],
      "text/plain": [
       "   Unnamed: 0     PHASE    TARIFF  POWER_SUSCRIBED   TENSION  DIVISION  \\\n",
       "0           0 -0.605289 -0.122733        -0.420250 -0.602011 -0.630084   \n",
       "1           0 -0.221579 -1.369943        -0.291834 -0.221199 -0.600486   \n",
       "2           1 -0.605289 -0.122733        -0.420250 -0.602011 -0.630084   \n",
       "3           1 -0.221579 -1.369943        -0.291834 -0.221199 -0.600486   \n",
       "4           2 -0.605289 -0.122733        -0.420250 -0.602011 -0.630084   \n",
       "\n",
       "   ACTIVITY_CMS    REGION    AGENCY  payment_mode  ...  Tenure_Days  \\\n",
       "0     -0.651396 -0.644237 -0.802526     -0.214137  ...     1.129093   \n",
       "1      4.384625 -0.562455 -0.681401      0.060776  ...     3.817115   \n",
       "2     -0.651396 -0.644237 -0.802526     -0.214137  ...     1.243018   \n",
       "3     -0.234678 -0.562455 -0.681401      0.060776  ...     3.039079   \n",
       "4     -0.651396 -0.644237 -0.802526     -0.214137  ...     1.243018   \n",
       "\n",
       "   Avg_Consumption  Max_Consumption  Total_Payment  Spike_Count  \\\n",
       "0        -0.005359        -0.003845      -0.272370     0.727695   \n",
       "1         0.003983         0.110861      -0.227233    -0.146108   \n",
       "2        -0.005002        -0.003799      -0.201113     0.727695   \n",
       "3        -0.563311        -0.476241      -0.243358    -1.508571   \n",
       "4        -0.005192        -0.003819      -0.226789     0.167772   \n",
       "\n",
       "   Has_inspected  inspection_count  fraud_found_category  SERVICE_NBR  \\\n",
       "0            0.0          -0.19517             -0.147188    200050057   \n",
       "1            0.0           0.00000              0.977119    200050072   \n",
       "2            0.0          -0.19517             -0.147188    200050064   \n",
       "3            0.0           0.00000              0.977119    200050302   \n",
       "4            0.0          -0.19517             -0.147188    200050076   \n",
       "\n",
       "   Found_fraud  \n",
       "0            1  \n",
       "1            1  \n",
       "2            1  \n",
       "3            1  \n",
       "4            1  \n",
       "\n",
       "[5 rows x 21 columns]"
      ]
     },
     "execution_count": 29,
     "metadata": {},
     "output_type": "execute_result"
    }
   ],
   "source": [
    "merge.head()"
   ]
  },
  {
   "cell_type": "code",
   "execution_count": 27,
   "id": "c810d545-f9a0-4705-af45-6d42374c503e",
   "metadata": {},
   "outputs": [],
   "source": [
    "merge.to_csv('logic.csv')"
   ]
  },
  {
   "cell_type": "code",
   "execution_count": 28,
   "id": "8540def5-d796-4354-bc2e-fc895a54cbc9",
   "metadata": {},
   "outputs": [],
   "source": [
    "df=merge"
   ]
  },
  {
   "cell_type": "code",
   "execution_count": 31,
   "id": "d1b1f3c8-31a3-4695-83af-76ee5346e40e",
   "metadata": {},
   "outputs": [
    {
     "name": "stdout",
     "output_type": "stream",
     "text": [
      "Confusion Matrix:\n",
      " [[12159  7262]\n",
      " [ 5708 29074]]\n",
      "\n",
      "Classification Report:\n",
      "               precision    recall  f1-score   support\n",
      "\n",
      "           0       0.68      0.63      0.65     19421\n",
      "           1       0.80      0.84      0.82     34782\n",
      "\n",
      "    accuracy                           0.76     54203\n",
      "   macro avg       0.74      0.73      0.73     54203\n",
      "weighted avg       0.76      0.76      0.76     54203\n",
      "\n",
      "\n",
      "Accuracy Score: 0.7607143516041548\n"
     ]
    }
   ],
   "source": [
    "# Import necessary libraries\n",
    "import pandas as pd\n",
    "from sklearn.model_selection import train_test_split\n",
    "from sklearn.linear_model import LogisticRegression\n",
    "from sklearn.metrics import classification_report, confusion_matrix, accuracy_score\n",
    "\n",
    " \n",
    "\n",
    "# Separate features and target\n",
    "X = df.drop('Found_fraud', axis=1)\n",
    "y = df['Found_fraud']\n",
    "\n",
    "# Split into train and test\n",
    "X_train, X_test, y_train, y_test = train_test_split(X, y, test_size=0.2, random_state=42)\n",
    "\n",
    "# Initialize Logistic Regression model\n",
    "model = LogisticRegression(max_iter=1000)  # Increase max_iter if needed\n",
    "\n",
    "# Fit model\n",
    "model.fit(X_train, y_train)\n",
    "\n",
    "# Make predictions\n",
    "y_pred = model.predict(X_test)\n",
    "\n",
    "# Evaluate performance\n",
    "print(\"Confusion Matrix:\\n\", confusion_matrix(y_test, y_pred))\n",
    "print(\"\\nClassification Report:\\n\", classification_report(y_test, y_pred))\n",
    "print(\"\\nAccuracy Score:\", accuracy_score(y_test, y_pred))\n"
   ]
  },
  {
   "cell_type": "code",
   "execution_count": 32,
   "id": "c31e29a7-5c6f-4f01-b3da-f561f257ea6d",
   "metadata": {},
   "outputs": [
    {
     "name": "stdout",
     "output_type": "stream",
     "text": [
      "\n",
      "====== XGBoost ======\n",
      "\n",
      "Confusion Matrix:\n",
      " [[19421     0]\n",
      " [    0 34782]]\n",
      "\n",
      "Classification Report:\n",
      "               precision    recall  f1-score   support\n",
      "\n",
      "           0       1.00      1.00      1.00     19421\n",
      "           1       1.00      1.00      1.00     34782\n",
      "\n",
      "    accuracy                           1.00     54203\n",
      "   macro avg       1.00      1.00      1.00     54203\n",
      "weighted avg       1.00      1.00      1.00     54203\n",
      "\n",
      "\n",
      "Accuracy Score: 1.0\n",
      "\n",
      "====== AdaBoost ======\n",
      "\n",
      "Confusion Matrix:\n",
      " [[19421     0]\n",
      " [    0 34782]]\n",
      "\n",
      "Classification Report:\n",
      "               precision    recall  f1-score   support\n",
      "\n",
      "           0       1.00      1.00      1.00     19421\n",
      "           1       1.00      1.00      1.00     34782\n",
      "\n",
      "    accuracy                           1.00     54203\n",
      "   macro avg       1.00      1.00      1.00     54203\n",
      "weighted avg       1.00      1.00      1.00     54203\n",
      "\n",
      "\n",
      "Accuracy Score: 1.0\n",
      "\n",
      "====== GradientBoosting ======\n",
      "\n",
      "Confusion Matrix:\n",
      " [[19421     0]\n",
      " [    0 34782]]\n",
      "\n",
      "Classification Report:\n",
      "               precision    recall  f1-score   support\n",
      "\n",
      "           0       1.00      1.00      1.00     19421\n",
      "           1       1.00      1.00      1.00     34782\n",
      "\n",
      "    accuracy                           1.00     54203\n",
      "   macro avg       1.00      1.00      1.00     54203\n",
      "weighted avg       1.00      1.00      1.00     54203\n",
      "\n",
      "\n",
      "Accuracy Score: 1.0\n"
     ]
    }
   ],
   "source": [
    "# Import libraries\n",
    "import pandas as pd\n",
    "from sklearn.model_selection import train_test_split\n",
    "from sklearn.metrics import classification_report, confusion_matrix, accuracy_score\n",
    "\n",
    "# Ensemble models\n",
    "from xgboost import XGBClassifier\n",
    "from sklearn.ensemble import AdaBoostClassifier, GradientBoostingClassifier\n",
    " \n",
    "\n",
    "# Separate features and target\n",
    "X = df.drop('Found_fraud', axis=1)\n",
    "y = df['Found_fraud']\n",
    "\n",
    "# Train-test split\n",
    "X_train, X_test, y_train, y_test = train_test_split(X, y, test_size=0.2, random_state=42)\n",
    "\n",
    "# Define models\n",
    "models = {\n",
    "    \"XGBoost\": XGBClassifier(use_label_encoder=False, eval_metric='logloss'),\n",
    "    \"AdaBoost\": AdaBoostClassifier(n_estimators=100, random_state=42),\n",
    "    \"GradientBoosting\": GradientBoostingClassifier(n_estimators=100, random_state=42)\n",
    "}\n",
    "\n",
    "# Train and evaluate each model\n",
    "for name, model in models.items():\n",
    "    print(f\"\\n====== {name} ======\\n\")\n",
    "    model.fit(X_train, y_train)\n",
    "    y_pred = model.predict(X_test)\n",
    "\n",
    "    print(\"Confusion Matrix:\\n\", confusion_matrix(y_test, y_pred))\n",
    "    print(\"\\nClassification Report:\\n\", classification_report(y_test, y_pred))\n",
    "    print(\"\\nAccuracy Score:\", accuracy_score(y_test, y_pred))\n"
   ]
  },
  {
   "cell_type": "code",
   "execution_count": 33,
   "id": "3f9129ed-c85b-476b-a4f6-c4f33d4b482f",
   "metadata": {},
   "outputs": [
    {
     "name": "stdout",
     "output_type": "stream",
     "text": [
      "Confusion Matrix:\n",
      " [[19419     2]\n",
      " [   14 34768]]\n",
      "\n",
      "Classification Report:\n",
      "               precision    recall  f1-score   support\n",
      "\n",
      "           0       1.00      1.00      1.00     19421\n",
      "           1       1.00      1.00      1.00     34782\n",
      "\n",
      "    accuracy                           1.00     54203\n",
      "   macro avg       1.00      1.00      1.00     54203\n",
      "weighted avg       1.00      1.00      1.00     54203\n",
      "\n",
      "\n",
      "Accuracy Score: 0.9997048133867129\n"
     ]
    }
   ],
   "source": [
    "# Import libraries\n",
    "import pandas as pd\n",
    "from sklearn.model_selection import train_test_split\n",
    "from sklearn.preprocessing import StandardScaler\n",
    "from sklearn.svm import SVC\n",
    "from sklearn.metrics import classification_report, confusion_matrix, accuracy_score\n",
    "\n",
    " \n",
    "\n",
    "# Separate features and target\n",
    "X = df.drop('Found_fraud', axis=1)\n",
    "y = df['Found_fraud']\n",
    "\n",
    "# Split into train and test sets\n",
    "X_train, X_test, y_train, y_test = train_test_split(X, y, test_size=0.2, random_state=42)\n",
    "\n",
    "# Scale the features (important for SVM)\n",
    "scaler = StandardScaler()\n",
    "X_train_scaled = scaler.fit_transform(X_train)\n",
    "X_test_scaled = scaler.transform(X_test)\n",
    "\n",
    "# Initialize and fit the SVM model\n",
    "svm_model = SVC(kernel='rbf', C=1.0, gamma='scale', random_state=42)\n",
    "svm_model.fit(X_train_scaled, y_train)\n",
    "\n",
    "# Make predictions\n",
    "y_pred = svm_model.predict(X_test_scaled)\n",
    "\n",
    "# Evaluate the model\n",
    "print(\"Confusion Matrix:\\n\", confusion_matrix(y_test, y_pred))\n",
    "print(\"\\nClassification Report:\\n\", classification_report(y_test, y_pred))\n",
    "print(\"\\nAccuracy Score:\", accuracy_score(y_test, y_pred))\n"
   ]
  },
  {
   "cell_type": "code",
   "execution_count": null,
   "id": "252a04a5-0f29-45b1-b034-340d03483457",
   "metadata": {},
   "outputs": [],
   "source": []
  }
 ],
 "metadata": {
  "kernelspec": {
   "display_name": "Python 3.11",
   "language": "python",
   "name": "python311"
  },
  "language_info": {
   "codemirror_mode": {
    "name": "ipython",
    "version": 3
   },
   "file_extension": ".py",
   "mimetype": "text/x-python",
   "name": "python",
   "nbconvert_exporter": "python",
   "pygments_lexer": "ipython3",
   "version": "3.13.2"
  }
 },
 "nbformat": 4,
 "nbformat_minor": 5
}
