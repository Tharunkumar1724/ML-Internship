{
 "cells": [
  {
   "cell_type": "code",
   "execution_count": null,
   "id": "82a9f323-1fda-4ffc-91a8-4b876328af3a",
   "metadata": {},
   "outputs": [],
   "source": []
  },
  {
   "cell_type": "code",
   "execution_count": 3,
   "id": "39e9c560-7041-4abc-b1a0-72ac97033760",
   "metadata": {},
   "outputs": [
    {
     "ename": "NameError",
     "evalue": "name 'v' is not defined",
     "output_type": "error",
     "traceback": [
      "\u001b[1;31m---------------------------------------------------------------------------\u001b[0m",
      "\u001b[1;31mNameError\u001b[0m                                 Traceback (most recent call last)",
      "Cell \u001b[1;32mIn[3], line 1\u001b[0m\n\u001b[1;32m----> 1\u001b[0m \u001b[43mv\u001b[49m\n",
      "\u001b[1;31mNameError\u001b[0m: name 'v' is not defined"
     ]
    }
   ],
   "source": [
    " v"
   ]
  },
  {
   "cell_type": "code",
   "execution_count": null,
   "id": "bf1fc190-6574-46ce-8c0c-4219af90ee06",
   "metadata": {},
   "outputs": [],
   "source": [
    " "
   ]
  },
  {
   "cell_type": "code",
   "execution_count": null,
   "id": "c9fd4eba-998f-43b9-a45b-b35d81ac4bc2",
   "metadata": {},
   "outputs": [],
   "source": [
    "import sqlite3\n",
    "import sqlalchemy as sl\n",
    "import pandas as pd\n",
    "con=sqlite3.connect(\"myfrnds.sqlite3\")\n",
    "query='''create table Aids(\"name\" VARCHAR2(20),\"Branch\" VARCHAR(20));'''\n",
    "con.execute(query)"
   ]
  },
  {
   "cell_type": "code",
   "execution_count": null,
   "id": "58a5e39e-ca70-4ff3-bde1-d591b2994e34",
   "metadata": {},
   "outputs": [],
   "source": [
    "data=[(\"saibaba\",\"Aids\"),(\"Pavan\",\"Aids\")]\n",
    "stmt=\"INSERT INTO AIDS VALUES(?,?)\"\n",
    "con.executemany(stmt,data)"
   ]
  },
  {
   "cell_type": "code",
   "execution_count": null,
   "id": "2fc5c6ba-ce45-419b-957e-dd94e025ecc5",
   "metadata": {},
   "outputs": [],
   "source": [
    "con.commit()\n",
    "\n",
    "# Create a cursor object to execute queries\n",
    "cursor = con.cursor()\n",
    "\n",
    "# Execute a SELECT query to retrieve all data from the Aids table\n",
    "cursor.execute(\"SELECT * FROM Aids\")\n",
    "\n",
    "# Fetch all results\n",
    "results = cursor.fetchall()\n",
    "\n",
    "# Print the results\n",
    "print(\"Data in Aids table:\")\n",
    "for row in results:\n",
    "    print(row)\n",
    "cursor.close()\n",
    "con.close()"
   ]
  },
  {
   "cell_type": "code",
   "execution_count": null,
   "id": "75b367fb-2c49-465a-b5bb-aa97947848af",
   "metadata": {},
   "outputs": [],
   "source": [
    "!pip install SQLAlchemy"
   ]
  },
  {
   "cell_type": "code",
   "execution_count": 9,
   "id": "cc460c16-e241-4eae-bccb-1ef390accc92",
   "metadata": {},
   "outputs": [],
   "source": [
    "import mysql.connector as connection\n"
   ]
  },
  {
   "cell_type": "code",
   "execution_count": null,
   "id": "50e5de6b-9ef3-4ed1-9ec4-6841fa0f246c",
   "metadata": {},
   "outputs": [],
   "source": [
    " "
   ]
  },
  {
   "cell_type": "code",
   "execution_count": 10,
   "id": "2324706c-2b8a-44cd-9a48-ba1338c00c2b",
   "metadata": {},
   "outputs": [
    {
     "name": "stdout",
     "output_type": "stream",
     "text": [
      "Error: 1007 (HY000): Can't create database 'test'; database exists\n"
     ]
    }
   ],
   "source": [
    "import mysql.connector\n",
    "\n",
    "mydb = None  # Initialize mydb to None\n",
    "\n",
    "try:\n",
    "    mydb = mysql.connector.connect(\n",
    "        host=\"localhost\",\n",
    "        user=\"root\",\n",
    "        passwd=\"root1\",\n",
    "        use_pure=True\n",
    "    )\n",
    "    \n",
    "    query = \"CREATE DATABASE Test\"\n",
    "    cursor = mydb.cursor()\n",
    "    cursor.execute(query)\n",
    "    \n",
    "    print(\"Database 'Test' created successfully.\")\n",
    "    \n",
    "except mysql.connector.Error as e:\n",
    "    print(f\"Error: {str(e)}\")\n",
    "finally:\n",
    "    if mydb is not None and mydb.is_connected():\n",
    "        cursor.close()\n",
    "        mydb.close()\n",
    "        "
   ]
  },
  {
   "cell_type": "code",
   "execution_count": null,
   "id": "a1d4c9cc-1c11-4e84-a7e7-0b4b66539391",
   "metadata": {},
   "outputs": [],
   "source": [
    "hg"
   ]
  },
  {
   "cell_type": "code",
   "execution_count": null,
   "id": "305c0bdb-8a39-4186-a9dd-8b9bdbefc60f",
   "metadata": {},
   "outputs": [],
   "source": []
  },
  {
   "cell_type": "code",
   "execution_count": null,
   "id": "ef817e3d-0d4b-4676-8760-3b85eb74a557",
   "metadata": {},
   "outputs": [],
   "source": []
  },
  {
   "cell_type": "code",
   "execution_count": null,
   "id": "b73c5739-72fa-45fc-a813-33820e0658ab",
   "metadata": {},
   "outputs": [],
   "source": []
  },
  {
   "cell_type": "code",
   "execution_count": null,
   "id": "941c1390-8c11-4002-a509-95ccfbb37a6b",
   "metadata": {},
   "outputs": [],
   "source": []
  },
  {
   "cell_type": "code",
   "execution_count": null,
   "id": "7bce14d4-78bf-4c0f-8355-efc8053b4d95",
   "metadata": {},
   "outputs": [],
   "source": []
  }
 ],
 "metadata": {
  "kernelspec": {
   "display_name": "test_venv",
   "language": "python",
   "name": "test_venv"
  },
  "language_info": {
   "codemirror_mode": {
    "name": "ipython",
    "version": 3
   },
   "file_extension": ".py",
   "mimetype": "text/x-python",
   "name": "python",
   "nbconvert_exporter": "python",
   "pygments_lexer": "ipython3",
   "version": "3.13.1"
  }
 },
 "nbformat": 4,
 "nbformat_minor": 5
}
