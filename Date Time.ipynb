{
 "cells": [
  {
   "cell_type": "code",
   "execution_count": 1,
   "id": "e89226fe-4238-40e2-a60b-7f489f1512c3",
   "metadata": {},
   "outputs": [
    {
     "name": "stdout",
     "output_type": "stream",
     "text": [
      "2025-02-25 11:51:53.084883\n"
     ]
    }
   ],
   "source": [
    "from datetime import datetime\n",
    "data=datetime.now()\n",
    "print(data)"
   ]
  },
  {
   "cell_type": "code",
   "execution_count": 2,
   "id": "0f67ad80-acc7-426d-8956-c7e286744c90",
   "metadata": {},
   "outputs": [
    {
     "data": {
      "text/plain": [
       "2025"
      ]
     },
     "metadata": {},
     "output_type": "display_data"
    }
   ],
   "source": [
    "display(data.year)"
   ]
  },
  {
   "cell_type": "code",
   "execution_count": 3,
   "id": "2c7d8dc3-5f7a-40fe-a42a-460e8b4b4f76",
   "metadata": {},
   "outputs": [
    {
     "data": {
      "text/plain": [
       "2"
      ]
     },
     "metadata": {},
     "output_type": "display_data"
    }
   ],
   "source": [
    "display(data.month)"
   ]
  },
  {
   "cell_type": "code",
   "execution_count": 4,
   "id": "a69fb534-c0b9-41ce-bf4b-7460170c538e",
   "metadata": {},
   "outputs": [
    {
     "data": {
      "text/plain": [
       "25"
      ]
     },
     "metadata": {},
     "output_type": "display_data"
    }
   ],
   "source": [
    "\n",
    "display(data.day)"
   ]
  },
  {
   "cell_type": "code",
   "execution_count": 5,
   "id": "cb42d324-c88f-4596-b6a0-5d8b6591a192",
   "metadata": {},
   "outputs": [
    {
     "data": {
      "text/plain": [
       "11"
      ]
     },
     "metadata": {},
     "output_type": "display_data"
    }
   ],
   "source": [
    "display(data.hour)"
   ]
  },
  {
   "cell_type": "code",
   "execution_count": 6,
   "id": "8132d0e9-a1ba-4c91-985e-b327f9e7982a",
   "metadata": {},
   "outputs": [
    {
     "data": {
      "text/plain": [
       "51"
      ]
     },
     "metadata": {},
     "output_type": "display_data"
    }
   ],
   "source": [
    "display(data.minute)"
   ]
  },
  {
   "cell_type": "code",
   "execution_count": 7,
   "id": "af2a0ad9-1783-4e9a-a401-d761397b481b",
   "metadata": {},
   "outputs": [
    {
     "name": "stdout",
     "output_type": "stream",
     "text": [
      "6 days, 0:00:00\n"
     ]
    }
   ],
   "source": [
    "delta=datetime(2023,4,18)-datetime(2023,4,12)\n",
    "print(delta)"
   ]
  },
  {
   "cell_type": "code",
   "execution_count": 8,
   "id": "cd3028e3-7fab-4b31-96fe-c7f6cc3bdf48",
   "metadata": {},
   "outputs": [
    {
     "data": {
      "text/plain": [
       "datetime.datetime(2023, 4, 7, 0, 0)"
      ]
     },
     "execution_count": 8,
     "metadata": {},
     "output_type": "execute_result"
    }
   ],
   "source": [
    "from datetime import timedelta\n",
    "start=datetime(2023,4,8)\n",
    "start-timedelta(1)"
   ]
  },
  {
   "cell_type": "code",
   "execution_count": 15,
   "id": "60a58fee-7b33-4c64-a977-89f9ad16e747",
   "metadata": {},
   "outputs": [
    {
     "data": {
      "text/plain": [
       "[datetime.datetime(2011, 1, 2, 0, 0),\n",
       " datetime.datetime(2011, 1, 5, 0, 0),\n",
       " datetime.datetime(2011, 1, 7, 0, 0)]"
      ]
     },
     "execution_count": 15,
     "metadata": {},
     "output_type": "execute_result"
    }
   ],
   "source": [
    "from datetime import datetime\n",
    "import pandas as pd\n",
    "import numpy as np\n",
    "dates=[datetime(2011, 1, 2), datetime(2011, 1, 5),\n",
    " datetime(2011, 1, 7)]\n",
    "dates\n"
   ]
  },
  {
   "cell_type": "code",
   "execution_count": 14,
   "id": "bf445e93-7380-48db-bb6b-e7ce75415e04",
   "metadata": {},
   "outputs": [
    {
     "data": {
      "text/html": [
       "<div>\n",
       "<style scoped>\n",
       "    .dataframe tbody tr th:only-of-type {\n",
       "        vertical-align: middle;\n",
       "    }\n",
       "\n",
       "    .dataframe tbody tr th {\n",
       "        vertical-align: top;\n",
       "    }\n",
       "\n",
       "    .dataframe thead th {\n",
       "        text-align: right;\n",
       "    }\n",
       "</style>\n",
       "<table border=\"1\" class=\"dataframe\">\n",
       "  <thead>\n",
       "    <tr style=\"text-align: right;\">\n",
       "      <th></th>\n",
       "      <th>Names</th>\n",
       "      <th>Science</th>\n",
       "      <th>Social</th>\n",
       "      <th>Maths</th>\n",
       "    </tr>\n",
       "  </thead>\n",
       "  <tbody>\n",
       "    <tr>\n",
       "      <th>2011-01-02</th>\n",
       "      <td>Tharun</td>\n",
       "      <td>98</td>\n",
       "      <td>89</td>\n",
       "      <td>34</td>\n",
       "    </tr>\n",
       "    <tr>\n",
       "      <th>2011-01-05</th>\n",
       "      <td>Kumar</td>\n",
       "      <td>89</td>\n",
       "      <td>43</td>\n",
       "      <td>78</td>\n",
       "    </tr>\n",
       "    <tr>\n",
       "      <th>2011-01-07</th>\n",
       "      <td>Naveen</td>\n",
       "      <td>56</td>\n",
       "      <td>75</td>\n",
       "      <td>89</td>\n",
       "    </tr>\n",
       "  </tbody>\n",
       "</table>\n",
       "</div>"
      ],
      "text/plain": [
       "             Names  Science  Social  Maths\n",
       "2011-01-02  Tharun       98      89     34\n",
       "2011-01-05   Kumar       89      43     78\n",
       "2011-01-07  Naveen       56      75     89"
      ]
     },
     "execution_count": 14,
     "metadata": {},
     "output_type": "execute_result"
    }
   ],
   "source": [
    "df=pd.DataFrame({'Names':['Tharun','Kumar','Naveen'],'Science':[98,89,56],'Social':[89,43,75],'Maths':[34,78,89]},index=dates)\n",
    "df"
   ]
  },
  {
   "cell_type": "markdown",
   "id": "096ff92b-7a41-467e-b40d-80424ae76770",
   "metadata": {},
   "source": [
    "**Freguency in date tiime**"
   ]
  },
  {
   "cell_type": "code",
   "execution_count": 19,
   "id": "7ce724e3-8da1-457f-9a53-e90adf716227",
   "metadata": {},
   "outputs": [
    {
     "data": {
      "text/plain": [
       "DatetimeIndex(['2023-01-19', '2023-01-20', '2023-01-21', '2023-01-22',\n",
       "               '2023-01-23', '2023-01-24', '2023-01-25', '2023-01-26'],\n",
       "              dtype='datetime64[ns]', freq='D')"
      ]
     },
     "execution_count": 19,
     "metadata": {},
     "output_type": "execute_result"
    }
   ],
   "source": [
    "import pandas as pd\n",
    "fg1=pd.date_range(start='2023-01-19',end='2023-01-26',freq='D')\n",
    "fg1\n"
   ]
  },
  {
   "cell_type": "code",
   "execution_count": 22,
   "id": "f60d93ea-40c7-4cac-9cf1-456283e054f8",
   "metadata": {},
   "outputs": [
    {
     "data": {
      "text/plain": [
       "DatetimeIndex(['2023-01-19', '2023-01-20', '2023-01-23', '2023-01-24',\n",
       "               '2023-01-25', '2023-01-26'],\n",
       "              dtype='datetime64[ns]', freq='B')"
      ]
     },
     "execution_count": 22,
     "metadata": {},
     "output_type": "execute_result"
    }
   ],
   "source": [
    "fg1=pd.date_range(start='2023-01-19',end='2023-01-26',freq='B')\n",
    "fg1\n"
   ]
  },
  {
   "cell_type": "code",
   "execution_count": 23,
   "id": "d01254e8-dd9f-473b-ae1f-4fe48173e0e7",
   "metadata": {},
   "outputs": [
    {
     "name": "stderr",
     "output_type": "stream",
     "text": [
      "C:\\Users\\HAI\\AppData\\Local\\Temp\\ipykernel_15736\\4005215081.py:1: FutureWarning: 'H' is deprecated and will be removed in a future version, please use 'h' instead.\n",
      "  fg1=pd.date_range(start='2023-01-19',periods=5,freq='H')\n"
     ]
    },
    {
     "data": {
      "text/plain": [
       "DatetimeIndex(['2023-01-19 00:00:00', '2023-01-19 01:00:00',\n",
       "               '2023-01-19 02:00:00', '2023-01-19 03:00:00',\n",
       "               '2023-01-19 04:00:00'],\n",
       "              dtype='datetime64[ns]', freq='h')"
      ]
     },
     "execution_count": 23,
     "metadata": {},
     "output_type": "execute_result"
    }
   ],
   "source": [
    "fg1=pd.date_range(start='2023-01-19',periods=5,freq='H')\n",
    "fg1\n"
   ]
  },
  {
   "cell_type": "code",
   "execution_count": 24,
   "id": "2c2425d6-9ed1-49b4-81ac-c33554c6e999",
   "metadata": {},
   "outputs": [
    {
     "name": "stderr",
     "output_type": "stream",
     "text": [
      "C:\\Users\\HAI\\AppData\\Local\\Temp\\ipykernel_15736\\975910847.py:1: FutureWarning: 'M' is deprecated and will be removed in a future version, please use 'ME' instead.\n",
      "  fg1=pd.date_range(start='2023-01-19',end='2023-12-26',freq='M')\n"
     ]
    },
    {
     "data": {
      "text/plain": [
       "DatetimeIndex(['2023-01-31', '2023-02-28', '2023-03-31', '2023-04-30',\n",
       "               '2023-05-31', '2023-06-30', '2023-07-31', '2023-08-31',\n",
       "               '2023-09-30', '2023-10-31', '2023-11-30'],\n",
       "              dtype='datetime64[ns]', freq='ME')"
      ]
     },
     "execution_count": 24,
     "metadata": {},
     "output_type": "execute_result"
    }
   ],
   "source": [
    "fg1=pd.date_range(start='2023-01-19',end='2023-12-26',freq='M')\n",
    "fg1\n"
   ]
  },
  {
   "cell_type": "code",
   "execution_count": 25,
   "id": "b70cef83-f28e-4aef-b9f6-3a45bc6b2ffa",
   "metadata": {},
   "outputs": [
    {
     "name": "stderr",
     "output_type": "stream",
     "text": [
      "C:\\Users\\HAI\\AppData\\Local\\Temp\\ipykernel_15736\\3131485622.py:1: FutureWarning: 'Q' is deprecated and will be removed in a future version, please use 'QE' instead.\n",
      "  fg1=pd.date_range(start='2023-01-19',end='2023-12-26',freq='Q')\n"
     ]
    },
    {
     "data": {
      "text/plain": [
       "DatetimeIndex(['2023-03-31', '2023-06-30', '2023-09-30'], dtype='datetime64[ns]', freq='QE-DEC')"
      ]
     },
     "execution_count": 25,
     "metadata": {},
     "output_type": "execute_result"
    }
   ],
   "source": [
    "fg1=pd.date_range(start='2023-01-19',end='2023-12-26',freq='Q')\n",
    "fg1\n"
   ]
  }
 ],
 "metadata": {
  "kernelspec": {
   "display_name": "Python 3 (ipykernel)",
   "language": "python",
   "name": "python3"
  },
  "language_info": {
   "codemirror_mode": {
    "name": "ipython",
    "version": 3
   },
   "file_extension": ".py",
   "mimetype": "text/x-python",
   "name": "python",
   "nbconvert_exporter": "python",
   "pygments_lexer": "ipython3",
   "version": "3.13.1"
  }
 },
 "nbformat": 4,
 "nbformat_minor": 5
}
