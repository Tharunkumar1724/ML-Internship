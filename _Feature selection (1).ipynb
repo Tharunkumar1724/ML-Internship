{
 "cells": [
  {
   "cell_type": "markdown",
   "id": "99559b87-acf7-43ff-bc34-0d1f2ea71f40",
   "metadata": {},
   "source": [
    " \n",
    " **The Chi-square distribution test, or Goodness-of-fit test, \n",
    "checks whether the frequencies of the individual characteristic values in \n",
    "the sample correspond to the frequencies of a defined distribution.\n",
    "In most cases, this defined distribution corresponds to that of the population.\n",
    "In this case, it is tested whether the sample comes from the respective population.**"
   ]
  },
  {
   "cell_type": "code",
   "execution_count": 50,
   "id": "32a7580a-8917-4be8-a4ba-04e460a19eae",
   "metadata": {},
   "outputs": [
    {
     "name": "stdout",
     "output_type": "stream",
     "text": [
      "\n",
      "Chi-square Statistic: 5.0\n",
      "p-value: 0.0820849986238988\n",
      "Fail to reject the null hypothesis: The observed frequencies fit the expected distribution.\n"
     ]
    }
   ],
   "source": [
    "import numpy as np\n",
    "from scipy.stats import chisquare\n",
    "\n",
    "# Sample data: Observed frequencies\n",
    "observed = np.array([50, 30, 20])  # Observed counts\n",
    "expected = np.array([40, 40, 20])   # Expected counts\n",
    "\n",
    "# Perform Chi-square goodness of fit test\n",
    "chi2, p = chisquare(observed, expected)\n",
    "\n",
    "print(\"\\nChi-square Statistic:\", chi2)\n",
    "print(\"p-value:\", p)\n",
    "\n",
    "# Interpret the result\n",
    "alpha = 0.05\n",
    "if p < alpha:\n",
    "    print(\"Reject the null hypothesis: The observed frequencies do not fit the expected distribution.\")\n",
    "else:\n",
    "    print(\"Fail to reject the null hypothesis: The observed frequencies fit the expected distribution.\")\n"
   ]
  },
  {
   "cell_type": "markdown",
   "id": "95258b16-ebe0-48c9-812d-c3c03e5984df",
   "metadata": {},
   "source": [
    "**Chi-Square Test of Independence\n",
    "The Chi-Square Test of Independence is used when two categorical variables are to be tested for independence. The aim is to analyze whether the characteristic values of the first variable are influenced by the characteristic values of the second variable and vice versa.**"
   ]
  },
  {
   "cell_type": "code",
   "execution_count": null,
   "id": "bb49f828-c67d-4491-82da-7aaf907bcd37",
   "metadata": {},
   "outputs": [],
   "source": [
    "import numpy as np\n",
    "import pandas as pd\n",
    "from scipy.stats import chi2_contingency\n",
    "\n",
    "# Sample data: Contingency table\n",
    "data = np.array([[10, 20, 30],\n",
    "                 [6,  9,  15]])\n",
    "\n",
    "# Create a DataFrame for better visualization (optional)\n",
    "df = pd.DataFrame(data, columns=['Category A', 'Category B', 'Category C'], index=['Group 1', 'Group 2'])\n",
    "print(\"Contingency Table:\")\n",
    "print(df)\n",
    "\n",
    "# Perform Chi-square test of independence\n",
    "chi2, p, dof, expected = chi2_contingency(data)\n",
    "\n",
    "print(\"\\nChi-square Statistic:\", chi2)\n",
    "print(\"p-value:\", p)\n",
    "print(\"Degrees of Freedom:\", dof)\n",
    "print(\"Expected Frequencies:\")\n",
    "print(expected)\n",
    "\n",
    "# Interpret the result\n",
    "alpha = 0.05\n",
    "if p < alpha:\n",
    "    print(\"Reject the null hypothesis: There is a significant association between the variables.\")\n",
    "else:\n",
    "    print(\"Fail to reject the null hypothesis: There is no significant association between the variables.\")"
   ]
  },
  {
   "cell_type": "markdown",
   "id": "deb89bf3-b029-4255-95a7-e77f89e16be2",
   "metadata": {},
   "source": [
    "\n",
    " Null hypothesis and alternative hypothesis\n",
    "The null hypothesis and the alternative hypothesis then result in:\n",
    "\n",
    "Null hypothesis: there is no relationship between gender and highest educational attainment.\n",
    "\n",
    "Alternative hypothesis: There is a relation between gender and the highest educational attainment."
   ]
  },
  {
   "cell_type": "raw",
   "id": "67365f0a-538c-49ff-a1f2-243298992dad",
   "metadata": {},
   "source": [
    " The  t-test is a statistical test procedure that tests whether there is a significant difference between the means of two groups."
   ]
  },
  {
   "cell_type": "markdown",
   "id": "f193ce20-dd26-4cfe-9e5f-0ad826fa0ffd",
   "metadata": {},
   "source": [
    "** test for independent samples\n",
    "When to use the t-test for independent samples? \n",
    "We use the t-test for independent samples when we want to compare \n",
    "the means of two independent groups or samples. We want to know \n",
    "if there is a significant difference between these means. **"
   ]
  },
  {
   "cell_type": "code",
   "execution_count": 28,
   "id": "7be28764-f85b-43d9-ba26-cf398aae0dd4",
   "metadata": {},
   "outputs": [
    {
     "name": "stdout",
     "output_type": "stream",
     "text": [
      "Independent t-test\n",
      "t-statistic: -3.1270707424955124\n",
      "p-value: 0.014077444577781852\n",
      "Reject the null hypothesis: There is a significant difference between the two groups.\n"
     ]
    }
   ],
   "source": [
    "from scipy import stats\n",
    "# Sample data: Observed frequencies\n",
    "group1 = np.array([23, 21, 18, 30, 25])\n",
    "group2 = np.array([30, 29, 35, 32, 28])\n",
    "# Perform Chi-square goodness of fit test\n",
    "t_stat, p_value = stats.ttest_ind(group1,group2)\n",
    "print(\"Independent t-test\")\n",
    "print(\"t-statistic:\", t_stat)\n",
    "print(\"p-value:\", p_value)\n",
    "\n",
    "# Interpret the result\n",
    "alpha = 0.05\n",
    "if p_value < alpha:\n",
    "    print(\"Reject the null hypothesis: There is a significant difference between the two groups.\")\n",
    "else:\n",
    "    print(\"Fail to reject the null hypothesis: There is no significant difference between the two groups.\")"
   ]
  },
  {
   "cell_type": "markdown",
   "id": "9ab2fecc-62e8-4a0c-a664-a06ec4ccb903",
   "metadata": {},
   "source": [
    " A paired t-test is a statistical method used to determine whether the means of two related groups are significantly different from each other. This test is appropriate when you have two measurements taken on the same subjects, such as before-and-after measurements or matched subjects."
   ]
  },
  {
   "cell_type": "code",
   "execution_count": 29,
   "id": "b5e18456-1773-4062-98f9-ab613e5bb5af",
   "metadata": {},
   "outputs": [
    {
     "name": "stdout",
     "output_type": "stream",
     "text": [
      "Independent t-test\n",
      "t-statistic: -2.7850267391314314\n",
      "p-value: 0.04956317489794484\n",
      "Reject the null hypothesis: There is a significant difference between the two groups.\n"
     ]
    }
   ],
   "source": [
    "from scipy import stats\n",
    "# Sample data: Observed frequencies\n",
    "group1 = np.array([23, 21, 18, 30, 25])\n",
    "group2 = np.array([30, 29, 35, 32, 28])\n",
    "# Perform Chi-square goodness of fit test\n",
    "t_stat, p_value = stats.ttest_rel(group1,group2)\n",
    "print(\"Independent t-test\")\n",
    "print(\"t-statistic:\", t_stat)\n",
    "print(\"p-value:\", p_value)\n",
    "\n",
    "# Interpret the result\n",
    "alpha = 0.05\n",
    "if p_value < alpha:\n",
    "    print(\"Reject the null hypothesis: There is a significant difference between the two groups.\")\n",
    "else:\n",
    "    print(\"Fail to reject the null hypothesis: There is no significant difference between the two groups.\")"
   ]
  },
  {
   "cell_type": "markdown",
   "id": "f0a736ea-aab1-4101-86e7-50f6f6f2be4c",
   "metadata": {},
   "source": [
    "Null Hypothesis (H0): The means of the two related groups are equal (i.e., there is no difference).\n",
    "Alternative Hypothesis (H1): The means of the two related groups are not equal (i.e., there is a difference).\n",
    "Paired Samples: The data consists of pairs of observations, where each pair is related in some way \n",
    "(e.g., measurements taken from the same subjects at two different times)."
   ]
  },
  {
   "cell_type": "markdown",
   "id": "3bd91b95-6e98-4d2f-ac0a-ec56232e8a79",
   "metadata": {},
   "source": [
    "** An analysis of variance (ANOVA) tests whether statistically \n",
    "significant differences exist between more than two samples **"
   ]
  },
  {
   "cell_type": "markdown",
   "id": "b04d830f-4895-4220-851f-a96baaaa142f",
   "metadata": {},
   "source": [
    "One-way ANOVA (Analysis of Variance) is a statistical method used to compare the means of three or \n",
    "more independent groups to determine if at least one group mean is significantly different from the others. \n",
    "It helps to assess whether any of the differences among\n",
    "the means are statistically significant."
   ]
  },
  {
   "cell_type": "code",
   "execution_count": 39,
   "id": "84b7643b-0307-4300-b779-0c215cbac2ac",
   "metadata": {},
   "outputs": [],
   "source": [
    "import pandas as pd\n",
    "from scipy import stats\n",
    "#import statsmodels.api as sm\n",
    "#from statsmodels.formula.api import ols\n",
    "\n",
    "# Sample data: Test scores from three different teaching methods\n",
    "group1 = np.array([23, 21, 18, 30, 25])\n",
    "group2 = np.array([30, 29, 35, 32, 28])\n",
    "group3 = np.array([22, 24, 19, 27, 26])\n",
    "\n",
    "# Combine the data into a DataFrame for statsmodels\n",
    "data = pd.DataFrame({\n",
    "    'scores': np.concatenate([group1, group2, group3]),\n",
    "    'group': ['Group 1'] * len(group1) + ['Group 2'] * len(group2) + ['Group 3'] * len(group3)\n",
    "})\n",
    "data\n",
    " \n",
    "from scipy import stats\n",
    "import statsmodels.api as sm\n",
    "from statsmodels.formula.api import ols"
   ]
  },
  {
   "cell_type": "code",
   "execution_count": 40,
   "id": "9d569dab-54fa-4970-a04e-9139084249b4",
   "metadata": {},
   "outputs": [
    {
     "name": "stdout",
     "output_type": "stream",
     "text": [
      "One-way ANOVA using scipy\n",
      "F-statistic: 6.9608355091383824\n",
      "p-value: 0.009842592595246422\n",
      "Reject the null hypothesis: At least one group mean is significantly different.\n",
      "\n",
      "One-way ANOVA using statsmodels\n",
      "              sum_sq    df         F    PR(>F)\n",
      "group     177.733333   2.0  6.960836  0.009843\n",
      "Residual  153.200000  12.0       NaN       NaN\n"
     ]
    }
   ],
   "source": [
    "f_stat, p_value = stats.f_oneway(group1, group2, group3)\n",
    "\n",
    "print(\"One-way ANOVA using scipy\")\n",
    "print(\"F-statistic:\", f_stat)\n",
    "print(\"p-value:\", p_value)\n",
    "\n",
    "# Interpret the result\n",
    "alpha = 0.05\n",
    "if p_value < alpha:\n",
    "    print(\"Reject the null hypothesis: At least one group mean is significantly different.\")\n",
    "else:\n",
    "    print(\"Fail to reject the null hypothesis: No significant difference among group means.\")\n",
    "\n",
    "# Perform One-way ANOVA using statsmodels\n",
    "model = ols('scores ~ group', data=data).fit()\n",
    "anova_table = sm.stats.anova_lm(model, typ=2)\n",
    "\n",
    "print(\"\\nOne-way ANOVA using statsmodels\")\n",
    "print(anova_table)\n"
   ]
  },
  {
   "cell_type": "markdown",
   "id": "7223a7dd-8aea-4043-9f72-e45f5237a6b5",
   "metadata": {},
   "source": [
    "** Two-factor Analysis of Variance (ANOVA), also known as two-way ANOVA, is a \n",
    "statistical method used to determine the effect of two independent categorical \n",
    "variables (factors) on a continuous dependent variable. \n",
    "It allows you to assess not only the individual effects of each \n",
    "factor but also the interaction effect between the two factors.**"
   ]
  },
  {
   "cell_type": "code",
   "execution_count": 43,
   "id": "522ab355-646a-4c7e-b41a-7632f3a40436",
   "metadata": {},
   "outputs": [
    {
     "data": {
      "text/html": [
       "<div>\n",
       "<style scoped>\n",
       "    .dataframe tbody tr th:only-of-type {\n",
       "        vertical-align: middle;\n",
       "    }\n",
       "\n",
       "    .dataframe tbody tr th {\n",
       "        vertical-align: top;\n",
       "    }\n",
       "\n",
       "    .dataframe thead th {\n",
       "        text-align: right;\n",
       "    }\n",
       "</style>\n",
       "<table border=\"1\" class=\"dataframe\">\n",
       "  <thead>\n",
       "    <tr style=\"text-align: right;\">\n",
       "      <th></th>\n",
       "      <th>WeightLoss</th>\n",
       "      <th>Diet</th>\n",
       "      <th>Exercise</th>\n",
       "    </tr>\n",
       "  </thead>\n",
       "  <tbody>\n",
       "    <tr>\n",
       "      <th>0</th>\n",
       "      <td>5</td>\n",
       "      <td>A</td>\n",
       "      <td>X</td>\n",
       "    </tr>\n",
       "    <tr>\n",
       "      <th>1</th>\n",
       "      <td>6</td>\n",
       "      <td>A</td>\n",
       "      <td>X</td>\n",
       "    </tr>\n",
       "    <tr>\n",
       "      <th>2</th>\n",
       "      <td>7</td>\n",
       "      <td>A</td>\n",
       "      <td>Y</td>\n",
       "    </tr>\n",
       "    <tr>\n",
       "      <th>3</th>\n",
       "      <td>8</td>\n",
       "      <td>A</td>\n",
       "      <td>Y</td>\n",
       "    </tr>\n",
       "    <tr>\n",
       "      <th>4</th>\n",
       "      <td>5</td>\n",
       "      <td>B</td>\n",
       "      <td>X</td>\n",
       "    </tr>\n",
       "    <tr>\n",
       "      <th>5</th>\n",
       "      <td>6</td>\n",
       "      <td>B</td>\n",
       "      <td>X</td>\n",
       "    </tr>\n",
       "    <tr>\n",
       "      <th>6</th>\n",
       "      <td>7</td>\n",
       "      <td>B</td>\n",
       "      <td>Y</td>\n",
       "    </tr>\n",
       "    <tr>\n",
       "      <th>7</th>\n",
       "      <td>8</td>\n",
       "      <td>B</td>\n",
       "      <td>Y</td>\n",
       "    </tr>\n",
       "    <tr>\n",
       "      <th>8</th>\n",
       "      <td>9</td>\n",
       "      <td>C</td>\n",
       "      <td>X</td>\n",
       "    </tr>\n",
       "    <tr>\n",
       "      <th>9</th>\n",
       "      <td>10</td>\n",
       "      <td>C</td>\n",
       "      <td>X</td>\n",
       "    </tr>\n",
       "    <tr>\n",
       "      <th>10</th>\n",
       "      <td>6</td>\n",
       "      <td>C</td>\n",
       "      <td>Y</td>\n",
       "    </tr>\n",
       "    <tr>\n",
       "      <th>11</th>\n",
       "      <td>7</td>\n",
       "      <td>C</td>\n",
       "      <td>Y</td>\n",
       "    </tr>\n",
       "    <tr>\n",
       "      <th>12</th>\n",
       "      <td>8</td>\n",
       "      <td>A</td>\n",
       "      <td>Y</td>\n",
       "    </tr>\n",
       "    <tr>\n",
       "      <th>13</th>\n",
       "      <td>9</td>\n",
       "      <td>B</td>\n",
       "      <td>Y</td>\n",
       "    </tr>\n",
       "    <tr>\n",
       "      <th>14</th>\n",
       "      <td>10</td>\n",
       "      <td>C</td>\n",
       "      <td>Y</td>\n",
       "    </tr>\n",
       "    <tr>\n",
       "      <th>15</th>\n",
       "      <td>11</td>\n",
       "      <td>C</td>\n",
       "      <td>Y</td>\n",
       "    </tr>\n",
       "  </tbody>\n",
       "</table>\n",
       "</div>"
      ],
      "text/plain": [
       "    WeightLoss Diet Exercise\n",
       "0            5    A        X\n",
       "1            6    A        X\n",
       "2            7    A        Y\n",
       "3            8    A        Y\n",
       "4            5    B        X\n",
       "5            6    B        X\n",
       "6            7    B        Y\n",
       "7            8    B        Y\n",
       "8            9    C        X\n",
       "9           10    C        X\n",
       "10           6    C        Y\n",
       "11           7    C        Y\n",
       "12           8    A        Y\n",
       "13           9    B        Y\n",
       "14          10    C        Y\n",
       "15          11    C        Y"
      ]
     },
     "execution_count": 43,
     "metadata": {},
     "output_type": "execute_result"
    }
   ],
   "source": [
    "import numpy as np\n",
    "import pandas as pd\n",
    "import statsmodels.api as sm\n",
    "from statsmodels.formula.api import ols\n",
    "data = {\n",
    "    'WeightLoss': [5, 6, 7, 8, 5, 6, 7, 8, 9, 10, 6, 7, 8, 9, 10, 11],\n",
    "    'Diet': ['A', 'A', 'A', 'A', 'B', 'B', 'B', 'B', 'C', 'C', 'C', 'C', 'A', 'B', 'C', 'C'],\n",
    "    'Exercise': ['X', 'X', 'Y', 'Y', 'X', 'X', 'Y', 'Y', 'X', 'X', 'Y', 'Y', 'Y', 'Y', 'Y', 'Y']\n",
    "}\n",
    "df = pd.DataFrame(data)\n",
    "df"
   ]
  },
  {
   "cell_type": "code",
   "execution_count": 49,
   "id": "f2036395-68b9-46b2-a8f4-5200ffd744c6",
   "metadata": {},
   "outputs": [
    {
     "name": "stdout",
     "output_type": "stream",
     "text": [
      "                        sum_sq    df         F    PR(>F)\n",
      "C(Diet)              12.976190   2.0  3.065242  0.091572\n",
      "C(Exercise)           4.876190   1.0  2.303712  0.160025\n",
      "C(Diet):C(Exercise)   9.590476   2.0  2.265467  0.154359\n",
      "Residual             21.166667  10.0       NaN       NaN\n"
     ]
    }
   ],
   "source": [
    "model=ols('WeightLoss~C(Diet)*C(Exercise)',data=df).fit()\n",
    "anova_table = sm.stats.anova_lm(model, typ=2)\n",
    "\n",
    "print(anova_table)"
   ]
  },
  {
   "cell_type": "markdown",
   "id": "1860482f-53a2-4390-8295-862d666bf0f6",
   "metadata": {},
   "source": [
    "Null Hypothesis (H0): All group means are equal.\n",
    "Alternative Hypothesis (H1): At least one group mean is different.\n",
    "F-statistic: The ratio of the variance between the groups to the variance within the groups. A higher F-statistic indicates a greater degree of difference between the group means.\n"
   ]
  }
 ],
 "metadata": {
  "kernelspec": {
   "display_name": "Python 3 (ipykernel)",
   "language": "python",
   "name": "python3"
  },
  "language_info": {
   "codemirror_mode": {
    "name": "ipython",
    "version": 3
   },
   "file_extension": ".py",
   "mimetype": "text/x-python",
   "name": "python",
   "nbconvert_exporter": "python",
   "pygments_lexer": "ipython3",
   "version": "3.13.1"
  }
 },
 "nbformat": 4,
 "nbformat_minor": 5
}
