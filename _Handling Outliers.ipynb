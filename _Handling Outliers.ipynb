{
 "cells": [
  {
   "cell_type": "code",
   "execution_count": 2,
   "id": "f8faafb7-c84b-4279-8fbc-bc78a1e18f88",
   "metadata": {},
   "outputs": [],
   "source": [
    "import numpy as np\n",
    "import matplotlib.pyplot as plt\n",
    "import pandas as pd"
   ]
  },
  {
   "cell_type": "markdown",
   "id": "456d6890-70ea-4dd8-a563-b5674954b676",
   "metadata": {},
   "source": [
    "**Inter Quantile Range**"
   ]
  },
  {
   "cell_type": "code",
   "execution_count": 3,
   "id": "32248398-f285-47b0-b088-73095c63565f",
   "metadata": {},
   "outputs": [
    {
     "data": {
      "text/html": [
       "<div>\n",
       "<style scoped>\n",
       "    .dataframe tbody tr th:only-of-type {\n",
       "        vertical-align: middle;\n",
       "    }\n",
       "\n",
       "    .dataframe tbody tr th {\n",
       "        vertical-align: top;\n",
       "    }\n",
       "\n",
       "    .dataframe thead th {\n",
       "        text-align: right;\n",
       "    }\n",
       "</style>\n",
       "<table border=\"1\" class=\"dataframe\">\n",
       "  <thead>\n",
       "    <tr style=\"text-align: right;\">\n",
       "      <th></th>\n",
       "      <th>City</th>\n",
       "      <th>State</th>\n",
       "      <th>Age Group</th>\n",
       "      <th>Gender</th>\n",
       "      <th>Coffee Type</th>\n",
       "      <th>Daily Cups Consumed</th>\n",
       "      <th>Preferred Coffee Brand</th>\n",
       "      <th>Consumption Setting</th>\n",
       "      <th>Monthly Coffee Expense (INR)</th>\n",
       "      <th>Reason for Consumption</th>\n",
       "      <th>Milk Preference</th>\n",
       "      <th>Sugar Preference</th>\n",
       "      <th>Awareness of Specialty Coffee</th>\n",
       "      <th>Frequency of Café Visits (Per Week)</th>\n",
       "      <th>Preferred Time of Consumption</th>\n",
       "      <th>Influence of Social Media on Choice</th>\n",
       "    </tr>\n",
       "  </thead>\n",
       "  <tbody>\n",
       "    <tr>\n",
       "      <th>0</th>\n",
       "      <td>Delhi</td>\n",
       "      <td>Delhi</td>\n",
       "      <td>18-25</td>\n",
       "      <td>Other</td>\n",
       "      <td>Espresso</td>\n",
       "      <td>4</td>\n",
       "      <td>Bru</td>\n",
       "      <td>Home</td>\n",
       "      <td>1060</td>\n",
       "      <td>Taste</td>\n",
       "      <td>Yes</td>\n",
       "      <td>No Sugar</td>\n",
       "      <td>No</td>\n",
       "      <td>6</td>\n",
       "      <td>Morning</td>\n",
       "      <td>Yes</td>\n",
       "    </tr>\n",
       "    <tr>\n",
       "      <th>1</th>\n",
       "      <td>Delhi</td>\n",
       "      <td>Delhi</td>\n",
       "      <td>26-35</td>\n",
       "      <td>Male</td>\n",
       "      <td>Cold Coffee</td>\n",
       "      <td>3</td>\n",
       "      <td>Others</td>\n",
       "      <td>Home</td>\n",
       "      <td>3972</td>\n",
       "      <td>Taste</td>\n",
       "      <td>No</td>\n",
       "      <td>Less Sugar</td>\n",
       "      <td>No</td>\n",
       "      <td>4</td>\n",
       "      <td>Evening</td>\n",
       "      <td>Yes</td>\n",
       "    </tr>\n",
       "    <tr>\n",
       "      <th>2</th>\n",
       "      <td>Bangalore</td>\n",
       "      <td>Karnataka</td>\n",
       "      <td>50+</td>\n",
       "      <td>Female</td>\n",
       "      <td>Espresso</td>\n",
       "      <td>2</td>\n",
       "      <td>Bru</td>\n",
       "      <td>Home</td>\n",
       "      <td>666</td>\n",
       "      <td>Habit</td>\n",
       "      <td>Yes</td>\n",
       "      <td>No Sugar</td>\n",
       "      <td>No</td>\n",
       "      <td>6</td>\n",
       "      <td>Morning</td>\n",
       "      <td>No</td>\n",
       "    </tr>\n",
       "    <tr>\n",
       "      <th>3</th>\n",
       "      <td>Kolkata</td>\n",
       "      <td>West Bengal</td>\n",
       "      <td>36-50</td>\n",
       "      <td>Male</td>\n",
       "      <td>Filter Coffee</td>\n",
       "      <td>3</td>\n",
       "      <td>Others</td>\n",
       "      <td>Home</td>\n",
       "      <td>3644</td>\n",
       "      <td>Socializing</td>\n",
       "      <td>Yes</td>\n",
       "      <td>Medium Sugar</td>\n",
       "      <td>No</td>\n",
       "      <td>3</td>\n",
       "      <td>Afternoon</td>\n",
       "      <td>Yes</td>\n",
       "    </tr>\n",
       "    <tr>\n",
       "      <th>4</th>\n",
       "      <td>Mumbai</td>\n",
       "      <td>Maharashtra</td>\n",
       "      <td>26-35</td>\n",
       "      <td>Female</td>\n",
       "      <td>Instant</td>\n",
       "      <td>3</td>\n",
       "      <td>Bru</td>\n",
       "      <td>Home</td>\n",
       "      <td>1885</td>\n",
       "      <td>Socializing</td>\n",
       "      <td>No</td>\n",
       "      <td>High Sugar</td>\n",
       "      <td>No</td>\n",
       "      <td>4</td>\n",
       "      <td>Afternoon</td>\n",
       "      <td>No</td>\n",
       "    </tr>\n",
       "  </tbody>\n",
       "</table>\n",
       "</div>"
      ],
      "text/plain": [
       "        City        State Age Group  Gender    Coffee Type  \\\n",
       "0      Delhi        Delhi     18-25   Other       Espresso   \n",
       "1      Delhi        Delhi     26-35    Male    Cold Coffee   \n",
       "2  Bangalore    Karnataka       50+  Female       Espresso   \n",
       "3    Kolkata  West Bengal     36-50    Male  Filter Coffee   \n",
       "4     Mumbai  Maharashtra     26-35  Female        Instant   \n",
       "\n",
       "   Daily Cups Consumed Preferred Coffee Brand Consumption Setting  \\\n",
       "0                    4                    Bru                Home   \n",
       "1                    3                 Others                Home   \n",
       "2                    2                    Bru                Home   \n",
       "3                    3                 Others                Home   \n",
       "4                    3                    Bru                Home   \n",
       "\n",
       "   Monthly Coffee Expense (INR) Reason for Consumption Milk Preference  \\\n",
       "0                          1060                  Taste             Yes   \n",
       "1                          3972                  Taste              No   \n",
       "2                           666                  Habit             Yes   \n",
       "3                          3644            Socializing             Yes   \n",
       "4                          1885            Socializing              No   \n",
       "\n",
       "  Sugar Preference Awareness of Specialty Coffee  \\\n",
       "0         No Sugar                            No   \n",
       "1       Less Sugar                            No   \n",
       "2         No Sugar                            No   \n",
       "3     Medium Sugar                            No   \n",
       "4       High Sugar                            No   \n",
       "\n",
       "   Frequency of Café Visits (Per Week) Preferred Time of Consumption  \\\n",
       "0                                    6                       Morning   \n",
       "1                                    4                       Evening   \n",
       "2                                    6                       Morning   \n",
       "3                                    3                     Afternoon   \n",
       "4                                    4                     Afternoon   \n",
       "\n",
       "  Influence of Social Media on Choice  \n",
       "0                                 Yes  \n",
       "1                                 Yes  \n",
       "2                                  No  \n",
       "3                                 Yes  \n",
       "4                                  No  "
      ]
     },
     "execution_count": 3,
     "metadata": {},
     "output_type": "execute_result"
    }
   ],
   "source": [
    "import pandas as pd\n",
    "df=pd.read_csv('coffee_consumption_india.csv')\n",
    "df.head()"
   ]
  },
  {
   "cell_type": "code",
   "execution_count": 4,
   "id": "a31eab53-e06d-44c5-bac4-2bf42141d0a7",
   "metadata": {},
   "outputs": [
    {
     "data": {
      "image/png": "[encoded data removed]",
      "text/plain": [
       "<Figure size 640x480 with 1 Axes>"
      ]
     },
     "metadata": {},
     "output_type": "display_data"
    }
   ],
   "source": [
    "plt.boxplot(df['Monthly Coffee Expense (INR)'])\n",
    "plt.xlabel('Monthly Coffee Expense (INR)')\n",
    "plt.title('Box Plot of Monthly Coffee Expense')\n",
    "plt.show()"
   ]
  },
  {
   "cell_type": "markdown",
   "id": "6ab1a46c-7d89-4598-83c0-63a98f53faa6",
   "metadata": {},
   "source": [
    " To find Outliers using the Boxplot: Qr=Q3-Q1 for lower outlier: Q1-1.5Qr for upper outlier: Q3+1.5Qr\n",
    "\n",
    "Statistical Methods Z-Score: The Z-score indicates how many standard deviations an element is from the mean. A common threshold for identifying outliers is a Z-score of greater than 3 or less than -3."
   ]
  },
  {
   "cell_type": "markdown",
   "id": "1cc1762f-ffaa-475a-917a-851e16907692",
   "metadata": {},
   "source": [
    "** Z-scores can help identify outliers in a dataset. Typically, a z-score greater than 3 or less than -3 is considered an outlier."
   ]
  },
  {
   "cell_type": "code",
   "execution_count": 18,
   "id": "d0e6c645-c18f-4bd4-92b0-52dfc14cc5c8",
   "metadata": {},
   "outputs": [
    {
     "name": "stdout",
     "output_type": "stream",
     "text": [
      "23.780681935834668\n",
      "21.75\n",
      "0    -0.494099\n",
      "1    -0.409997\n",
      "2    -0.409997\n",
      "3    -0.367946\n",
      "4    -0.409997\n",
      "5    -0.325895\n",
      "6    -0.283844\n",
      "7    -0.241793\n",
      "8    -0.157691\n",
      "9    -0.115640\n",
      "10   -0.073589\n",
      "11    3.290486\n",
      "Name: Z_score, dtype: float64\n"
     ]
    }
   ],
   "source": [
    "import numpy as np\n",
    "import pandas as pd\n",
    "data = [10, 12, 12, 13, 12, 14, 15, 16, 18, 19, 20, 100]\n",
    "df=pd.DataFrame(data,columns=['Vals'])\n",
    "df\n",
    "Z_std=np.std(df['Vals'])\n",
    "print(Z_std)\n",
    "Z_mean=np.mean(df['Vals'])\n",
    "print(Z_mean)\n",
    "df['Z_score']=(df['Vals']-Z_mean)/Z_std\n",
    "print(df['Z_score'])\n"
   ]
  },
  {
   "cell_type": "markdown",
   "id": "92b82cd9-0ec8-4ec0-85f2-704dadb1d500",
   "metadata": {},
   "source": [
    "**Here we conclude 11th row exceding +3 and -3 rule so it is the Outlier**\n"
   ]
  },
  {
   "cell_type": "code",
   "execution_count": null,
   "id": "403427c4-ec07-48ae-9eaa-33ff61f89fb2",
   "metadata": {},
   "outputs": [],
   "source": []
  }
 ],
 "metadata": {
  "kernelspec": {
   "display_name": "Python 3 (ipykernel)",
   "language": "python",
   "name": "python3"
  },
  "language_info": {
   "codemirror_mode": {
    "name": "ipython",
    "version": 3
   },
   "file_extension": ".py",
   "mimetype": "text/x-python",
   "name": "python",
   "nbconvert_exporter": "python",
   "pygments_lexer": "ipython3",
   "version": "3.13.1"
  }
 },
 "nbformat": 4,
 "nbformat_minor": 5
}
