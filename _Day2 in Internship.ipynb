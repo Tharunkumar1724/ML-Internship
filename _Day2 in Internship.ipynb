{
 "cells": [
  {
   "cell_type": "raw",
   "id": "3f84049e-ee35-4540-b1c0-aad7fd320e7f",
   "metadata": {},
   "source": [
    "# Linear Algebra Probability and statistics in data science using numpy and Pandas"
   ]
  },
  {
   "cell_type": "code",
   "execution_count": 1,
   "id": "1db3747c-a3c9-4a00-adc9-32e628d103d6",
   "metadata": {},
   "outputs": [],
   "source": [
    "import pandas as pd\n",
    "data={'Name':['Jagadesh','Ajay','Vicky','Koushal','Naveen','Tharun','Vishnu Varma','Ravi Varma'],'Science':[100,83,78,77,90,79,91,98],\n",
    "      'Social':[67,89,56,87,89,76,74,89],'Maths':[56,87,76,45,86,68,75,67],'2lang':[98,88,66,44,47,23,56,98]}\n",
    "\n",
    "df=pd.DataFrame(data)\n"
   ]
  },
  {
   "cell_type": "code",
   "execution_count": 2,
   "id": "065673da-3b2e-42b9-89ae-ec4cff247691",
   "metadata": {},
   "outputs": [
    {
     "name": "stdout",
     "output_type": "stream",
     "text": [
      "           Name  Science  Social  Maths  2lang\n",
      "0      Jagadesh      100      67     56     98\n",
      "1          Ajay       83      89     87     88\n",
      "2         Vicky       78      56     76     66\n",
      "3       Koushal       77      87     45     44\n",
      "4        Naveen       90      89     86     47\n",
      "5        Tharun       79      76     68     23\n",
      "6  Vishnu Varma       91      74     75     56\n",
      "7    Ravi Varma       98      89     67     98\n"
     ]
    }
   ],
   "source": [
    "print(df)"
   ]
  },
  {
   "cell_type": "code",
   "execution_count": 3,
   "id": "664a2da1-929a-45a2-8f99-9e639fe800cb",
   "metadata": {},
   "outputs": [
    {
     "data": {
      "text/plain": [
       "np.float64(78.375)"
      ]
     },
     "execution_count": 3,
     "metadata": {},
     "output_type": "execute_result"
    }
   ],
   "source": [
    "df['Social'].mean()\n",
    "#Average of all columns called as mean"
   ]
  },
  {
   "cell_type": "code",
   "execution_count": 5,
   "id": "cae43ddd-9699-4817-aa06-a2aa19f1a363",
   "metadata": {},
   "outputs": [
    {
     "data": {
      "text/plain": [
       "0    89\n",
       "Name: Social, dtype: int64"
      ]
     },
     "execution_count": 5,
     "metadata": {},
     "output_type": "execute_result"
    }
   ],
   "source": [
    "df['Social'].mode()\n",
    "#Mode shows the repating or common value which is present in the data set"
   ]
  },
  {
   "cell_type": "code",
   "execution_count": 7,
   "id": "102ea6d3-1a04-452a-b17d-4d5f6b9616b6",
   "metadata": {},
   "outputs": [
    {
     "data": {
      "text/plain": [
       "np.float64(81.5)"
      ]
     },
     "execution_count": 7,
     "metadata": {},
     "output_type": "execute_result"
    }
   ],
   "source": [
    "df['Social'].median()\n",
    "#it shows the midle value in the data set"
   ]
  },
  {
   "cell_type": "markdown",
   "id": "69656d00-d37d-4d16-afa1-3eb7710ae828",
   "metadata": {},
   "source": [
    "#Scalars and vectors"
   ]
  },
  {
   "cell_type": "code",
   "execution_count": null,
   "id": "16ad04d6-e1f6-4c92-9a45-24fa8b089b71",
   "metadata": {},
   "outputs": [],
   "source": [
    "#Scalars are the individual entities in the data set example like x=9.7"
   ]
  },
  {
   "cell_type": "code",
   "execution_count": 8,
   "id": "f4e6a56e-54b9-4ff4-8ad1-2f7edf55d653",
   "metadata": {},
   "outputs": [
    {
     "data": {
      "text/plain": [
       "array([ 12,  43, 667,  78, -90])"
      ]
     },
     "execution_count": 8,
     "metadata": {},
     "output_type": "execute_result"
    }
   ],
   "source": [
    "#Vectors are the colection of numbers which can be represented using list and arrays\n",
    "import numpy as np\n",
    "df1=np.array([12,43,667,78,-90])\n",
    "df1\n"
   ]
  },
  {
   "cell_type": "code",
   "execution_count": 10,
   "id": "6f2c5513-5c13-4a88-88fc-34f5b9352188",
   "metadata": {},
   "outputs": [
    {
     "data": {
      "text/plain": [
       "array([[12, 45, 67],\n",
       "       [23, 76, 45],\n",
       "       [80, 78, 34]])"
      ]
     },
     "execution_count": 10,
     "metadata": {},
     "output_type": "execute_result"
    }
   ],
   "source": [
    "#Matrics are the two dimensional arrays array of numeric numbers\n",
    "mat=np.array([[12,45,67],[23,76,45],[80,78,34]])\n",
    "mat"
   ]
  },
  {
   "cell_type": "code",
   "execution_count": 12,
   "id": "31d82c60-e1e5-4a09-aeee-23168e6a7cc4",
   "metadata": {},
   "outputs": [],
   "source": [
    "#Slicing in python\n",
    " "
   ]
  },
  {
   "cell_type": "code",
   "execution_count": 20,
   "id": "cadcc623-eabf-4ead-8c37-f72a915bb992",
   "metadata": {},
   "outputs": [
    {
     "data": {
      "text/plain": [
       "array([[12, 45, 67]])"
      ]
     },
     "execution_count": 20,
     "metadata": {},
     "output_type": "execute_result"
    }
   ],
   "source": [
    "#Slicing the Matrix to print  row\n",
    "mat[:1]"
   ]
  },
  {
   "cell_type": "code",
   "execution_count": 18,
   "id": "e7d7fe05-cb48-4891-80bd-adf8efc014b0",
   "metadata": {},
   "outputs": [
    {
     "data": {
      "text/plain": [
       "array([[23, 76, 45],\n",
       "       [80, 78, 34]])"
      ]
     },
     "execution_count": 18,
     "metadata": {},
     "output_type": "execute_result"
    }
   ],
   "source": [
    "#Printing the array from the second row to third row\n",
    "mat[1:3]"
   ]
  },
  {
   "cell_type": "code",
   "execution_count": 21,
   "id": "9a10f7d0-9d11-435c-a9d3-2abd35693147",
   "metadata": {},
   "outputs": [
    {
     "data": {
      "text/plain": [
       "array([[23, 76, 45],\n",
       "       [80, 78, 34]])"
      ]
     },
     "execution_count": 21,
     "metadata": {},
     "output_type": "execute_result"
    }
   ],
   "source": [
    "mat[1:]"
   ]
  },
  {
   "cell_type": "code",
   "execution_count": 22,
   "id": "1256a944-7b50-45a0-8b27-dd896747daef",
   "metadata": {},
   "outputs": [
    {
     "data": {
      "text/plain": [
       "array([[80, 78, 34]])"
      ]
     },
     "execution_count": 22,
     "metadata": {},
     "output_type": "execute_result"
    }
   ],
   "source": [
    "mat[2:3]"
   ]
  },
  {
   "cell_type": "code",
   "execution_count": 26,
   "id": "dc1c2a51-4782-4529-ac89-117d038a65b1",
   "metadata": {},
   "outputs": [
    {
     "data": {
      "text/plain": [
       "array([[78]])"
      ]
     },
     "execution_count": 26,
     "metadata": {},
     "output_type": "execute_result"
    }
   ],
   "source": [
    "#printing single element using slicing where 2:3 represent 3rd row and  1:2 represent 2 column\n",
    "mat[2:3,1:2]\n",
    " "
   ]
  },
  {
   "cell_type": "markdown",
   "id": "9625b0b0-33f1-4f5c-80bc-a5806b463a38",
   "metadata": {},
   "source": [
    "Linear Combination"
   ]
  },
  {
   "cell_type": "code",
   "execution_count": 30,
   "id": "6baee1c9-3467-4eab-96f1-a2faffa4bcb1",
   "metadata": {},
   "outputs": [
    {
     "name": "stdout",
     "output_type": "stream",
     "text": [
      "[[75 90]\n",
      " [90 90]]\n"
     ]
    }
   ],
   "source": [
    "'''Linear combination is combination of vectors by multiplying the data with scalar vectors v1 and v2​, \n",
    "and scalars a and b, the expression a × v1 + b × v2'''\n",
    "#let us consider scaler a=10 b=5 and vector x=[[6,7],[6,5]] y=[[3,4],[6,8]]\n",
    "#let us compute for a*x\n",
    "a=10\n",
    "x=np.array([[6,7],[6,5]])\n",
    "b=5\n",
    "y=np.array([[3,4],[6,8]])\n",
    "c=a*x\n",
    "d=b*y\n",
    "linearcombination=c+d\n",
    "print(linearcombination)\n",
    "\n",
    " "
   ]
  },
  {
   "cell_type": "code",
   "execution_count": 33,
   "id": "72d3b5b9-80c6-4397-9184-233222549420",
   "metadata": {},
   "outputs": [
    {
     "name": "stdout",
     "output_type": "stream",
     "text": [
      "EigResult(eigenvalues=array([18.42246644, -0.72284407,  0.30037763]), eigenvectors=array([[-0.38311553, -0.45878386,  0.36722111],\n",
      "       [-0.5440145 , -0.49520469, -0.81289768],\n",
      "       [-0.74650567,  0.73775991,  0.45204648]]))\n"
     ]
    }
   ],
   "source": [
    "'''Eigen  vector are the non singular identity eigen values are singular identity\n",
    " The vector that only changes by a scalar factor after applying a transformation is called an eigenvector\n",
    " the scalar value attached to the eigenvector is called the eigenvalue.'''\n",
    "p=np.array([[3,4,5],[4,6,7],[7,8,9]])\n",
    "m=np.linalg.eig(p)\n",
    "print(m)"
   ]
  },
  {
   "cell_type": "code",
   "execution_count": 37,
   "id": "58426ab5-a780-49e0-a82c-b17c41499b3f",
   "metadata": {},
   "outputs": [
    {
     "name": "stdout",
     "output_type": "stream",
     "text": [
      "[[ 64 170]\n",
      " [116 294]]\n"
     ]
    }
   ],
   "source": [
    "#scalar dot product means it taakes two vectors with same dimension to give scaler value\n",
    "k=np.array([[4,6],[8,10]])\n",
    "p=np.array([[7,8],[6,23]])\n",
    "o=np.dot(k,p)\n",
    "print(o)"
   ]
  },
  {
   "cell_type": "code",
   "execution_count": 36,
   "id": "838bed63-d766-405d-a4d1-59da2941d7b5",
   "metadata": {},
   "outputs": [
    {
     "name": "stdout",
     "output_type": "stream",
     "text": [
      "[[ 58  64]\n",
      " [139 154]]\n"
     ]
    }
   ],
   "source": [
    "#Vector dot product take tw# Define two matrices (2D arrays)\n",
    "A = np.array([[1, 2, 3],\n",
    "              [4, 5, 6]])\n",
    "\n",
    "B = np.array([[7, 8],\n",
    "              [9, 10],\n",
    "              [11, 12]])\n",
    "\n",
    "# Calculate the dot product (matrix multiplication)\n",
    "result_matrix = np.dot(A, B)\n",
    "\n",
    "print(result_matrix)\n"
   ]
  },
  {
   "cell_type": "code",
   "execution_count": 44,
   "id": "778b3d6c-cf89-4585-9478-586a07b74073",
   "metadata": {},
   "outputs": [
    {
     "data": {
      "text/plain": [
       "np.int64(2)"
      ]
     },
     "execution_count": 44,
     "metadata": {},
     "output_type": "execute_result"
    }
   ],
   "source": [
    "A = np.array([[1, 2, 3],\n",
    "              [4, 5, 6]])\n",
    "\n",
    "B = np.array([[7, 8,9],\n",
    "              [9, 10,8]])\n",
    "#cross product of two array of first row\n",
    "crossmat=np.linalg.cross(A[0],B[0])\n",
    "#transpose of matrix\n",
    "transpos=np.transpose(A)\n",
    "#singular value decomposition\n",
    "svd=np.linalg.svd(A)\n",
    "#finding rank of a matrix\n",
    "rankofmat=np.linalg.matrix_rank(A)\n",
    "\n",
    " "
   ]
  },
  {
   "cell_type": "markdown",
   "id": "8471989c-8249-44be-9b04-57a8f7c42341",
   "metadata": {},
   "source": [
    "Cosine Similarity\n"
   ]
  },
  {
   "cell_type": "code",
   "execution_count": 53,
   "id": "6edef59b-3989-43d5-a787-86ac6a364cad",
   "metadata": {},
   "outputs": [
    {
     "name": "stdout",
     "output_type": "stream",
     "text": [
      "Euclidan distance 5.0\n",
      "Manhattan 7\n",
      "Jaccard Similarity: 0.3333333333333333\n",
      "Cosine Similarity: 0.9746318461970762\n"
     ]
    }
   ],
   "source": [
    "#Cosine similarity is the mthod to find the similarity between two vectors\n",
    "#1.Euclidan distance\n",
    "import numpy as np\n",
    "p = np.array([1, 2])\n",
    "q = np.array([4, 6])\n",
    "eucl=np.linalg.norm(p-q)\n",
    "print(\"Euclidan distance\",eucl)\n",
    "#2.Manhattan\n",
    "manh=np.sum(abs(p-q))\n",
    "print(\"Manhattan\",manh)\n",
    "#3.Jaccard Similarity\n",
    "A = {1, 2, 3, 4}\n",
    "B = {3, 4, 5, 6}\n",
    "jaccard_similarity = len(A.intersection(B)) / len(A.union(B))\n",
    "print(\"Jaccard Similarity:\", jaccard_similarity)\n",
    "A = np.array([1, 2, 3])\n",
    "B = np.array([4, 5, 6])\n",
    "\n",
    "# 4. Cosine similarity\n",
    "cosine_similarity = np.dot(A, B) / (np.linalg.norm(A) * np.linalg.norm(B))\n",
    "print(\"Cosine Similarity:\", cosine_similarity)"
   ]
  },
  {
   "cell_type": "markdown",
   "id": "2698eb89-57e6-438e-a42e-f32913178f9f",
   "metadata": {},
   "source": [
    "Probability and statistics"
   ]
  },
  {
   "cell_type": "code",
   "execution_count": null,
   "id": "5c30287a-bf2f-4b7c-89cc-7354e06f39f8",
   "metadata": {},
   "outputs": [],
   "source": [
    "''' Probability is all about chance. Whereas statistics is more about\n",
    "how we handle various data using different techniques.'''\n"
   ]
  },
  {
   "cell_type": "code",
   "execution_count": null,
   "id": "2248e7ef-d444-4315-aecd-a9bd6685c047",
   "metadata": {},
   "outputs": [],
   "source": [
    "'''Sample Space Probability is a fundamental concept in probability theory \n",
    "that refers to the set of all possible outcomes of a random experiment. \n",
    "The sample space is denoted by the symbol ( S ) \n",
    "and can be finite or infinite, depending on the nature of the experiment.\n",
    "Finite Sample Space: Contains a finite number of outcomes.\n",
    "\n",
    "Example: Rolling a die, flipping a coin, drawing a card from a deck.\n",
    "Infinite Sample Space: Contains an infinite number of outcomes.\n",
    "\n",
    "Example: The set of all possible outcomes when measuring the height of individuals (which can take any value within a range).'''\n",
    "\n"
   ]
  },
  {
   "cell_type": "code",
   "execution_count": 54,
   "id": "f34d42fc-6c05-4d22-90c5-59b053185d8c",
   "metadata": {},
   "outputs": [
    {
     "name": "stdout",
     "output_type": "stream",
     "text": [
      "Sample Space: [1 2 3 4 5 6]\n",
      "Event (Even Numbers): [2 4 6]\n",
      "Probability of rolling an even number: 0.5\n"
     ]
    }
   ],
   "source": [
    "sample_space = np.array([1, 2, 3, 4, 5, 6])\n",
    "\n",
    "# Define the event of rolling an even number\n",
    "event = np.array([2, 4, 6])\n",
    "\n",
    "# Calculate the probability of the event\n",
    "total_outcomes = len(sample_space)\n",
    "favorable_outcomes = len(event)\n",
    "\n",
    "# Probability of rolling an even number\n",
    "probability_even = favorable_outcomes / total_outcomes\n",
    "\n",
    "print(\"Sample Space:\", sample_space)\n",
    "print(\"Event (Even Numbers):\", event)\n",
    "print(\"Probability of rolling an even number:\", probability_even)"
   ]
  },
  {
   "cell_type": "code",
   "execution_count": null,
   "id": "1e599ed4-885d-4533-893a-dab2c9ac546d",
   "metadata": {},
   "outputs": [],
   "source": [
    "'''Probability means the likely event that ocurs on the total events'''\n"
   ]
  }
 ],
 "metadata": {
  "kernelspec": {
   "display_name": "test_venv",
   "language": "python",
   "name": "test_venv"
  },
  "language_info": {
   "codemirror_mode": {
    "name": "ipython",
    "version": 3
   },
   "file_extension": ".py",
   "mimetype": "text/x-python",
   "name": "python",
   "nbconvert_exporter": "python",
   "pygments_lexer": "ipython3",
   "version": "3.13.1"
  }
 },
 "nbformat": 4,
 "nbformat_minor": 5
}
