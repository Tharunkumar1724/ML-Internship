{
 "cells": [
  {
   "cell_type": "code",
   "execution_count": 1,
   "id": "b007cfd7-3838-495b-b437-e0eea8ad7e81",
   "metadata": {},
   "outputs": [],
   "source": [
    "import numpy as np\n",
    "import pandas as pd\n",
    "from scipy import stats"
   ]
  },
  {
   "cell_type": "code",
   "execution_count": 5,
   "id": "68de8eec-d8a7-4f2b-8c5e-de7621338c66",
   "metadata": {},
   "outputs": [
    {
     "name": "stdout",
     "output_type": "stream",
     "text": [
      "F-statistic: 10.996721311475412\n",
      "p-value: 0.0019351586751907603\n",
      "reject null hypothesis\n"
     ]
    }
   ],
   "source": [
    "group1 = [23, 21, 18, 25, 30]\n",
    "group2 = [30, 29, 35, 32, 28]\n",
    "group3 = [22, 24, 20, 23, 21]\n",
    "f_statistics,p_value=stats.f_oneway(group1,group2,group3)\n",
    "print(\"F-statistic:\", f_statistics)\n",
    "print(\"p-value:\", p_value)\n",
    "alpha=0.05\n",
    "if p_value<alpha:\n",
    "    print(\"reject null hypothesis\")\n",
    "else:\n",
    "    print(\"failed to reject the null hypothesis\")\n",
    "    "
   ]
  },
  {
   "cell_type": "code",
   "execution_count": 8,
   "id": "08f1bbc1-42b0-433e-b756-c4c08077f191",
   "metadata": {},
   "outputs": [
    {
     "name": "stdout",
     "output_type": "stream",
     "text": [
      "F-statistic: -3.1270707424955124\n",
      "p-value: 0.014077444577781852\n",
      "reject null hypothesis\n"
     ]
    }
   ],
   "source": [
    "group1 = [23, 21, 18, 25, 30]\n",
    "group2 = [30, 29, 35, 32, 28]\n",
    "group3 = [22, 24, 20, 23, 21]\n",
    "f_statistics,p_value=stats.ttest_ind(group1,group2)\n",
    "print(\"F-statistic:\", f_statistics)\n",
    "print(\"p-value:\", p_value)\n",
    "alpha=0.05\n",
    "if p_value<alpha:\n",
    "    print(\"reject null hypothesis\")\n",
    "else:\n",
    "    print(\"failed to reject the null hypothesis\")\n",
    "    "
   ]
  }
 ],
 "metadata": {
  "kernelspec": {
   "display_name": "Python 3 (ipykernel)",
   "language": "python",
   "name": "python3"
  },
  "language_info": {
   "codemirror_mode": {
    "name": "ipython",
    "version": 3
   },
   "file_extension": ".py",
   "mimetype": "text/x-python",
   "name": "python",
   "nbconvert_exporter": "python",
   "pygments_lexer": "ipython3",
   "version": "3.13.1"
  }
 },
 "nbformat": 4,
 "nbformat_minor": 5
}
